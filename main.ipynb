import pandas as pd
import matplotlib.pyplot as plt
import seaborn as sns
from scipy import stats
import statsmodels.api as sm

# Load the dataset
data = pd.read_csv('housing_data.csv')  # Update with actual dataset path

# Set style for the plots
sns.set(style="whitegrid")

# Task 2: Generate Descriptive Statistics and Visualizations

# 1. Boxplot for the Median Value of Owner-Occupied Homes (MEDV)
plt.figure(figsize=(10, 6))
sns.boxplot(y=data['MEDV'])
plt.title('Boxplot of Median Value of Owner-Occupied Homes')
plt.ylabel('Median Value (in $1000s)')
plt.show()

# 2. Bar Plot for the Charles River Variable (CHAS)
chas_counts = data['CHAS'].value_counts()
plt.figure(figsize=(8, 5))
sns.barplot(x=chas_counts.index, y=chas_counts.values)
plt.title('Bar Plot of Houses Bounded by Charles River')
plt.xticks(ticks=[0, 1], labels=['Not Bounded', 'Bounded'])
plt.ylabel('Count of Houses')
plt.xlabel('Charles River Bounded (1 = Yes, 0 = No)')
plt.show()

# 3. Boxplot for MEDV vs. Age Variable (AGE)
data['AGE_GROUP'] = pd.cut(data['AGE'], bins=[0, 35, 70, data['AGE'].max()], labels=['35 or Younger', '36-70', '71 or Older'])
plt.figure(figsize=(10, 6))
sns.boxplot(x='AGE_GROUP', y='MEDV', data=data)
plt.title('Boxplot of MEDV by Age Group of Houses')
plt.xlabel('Age Group of Owner-Occupied Units')
plt.ylabel('Median Value (in $1000s)')
plt.show()

# 4. Scatter Plot for NOX vs. INDUS
plt.figure(figsize=(10, 6))
sns.scatterplot(x='NOX', y='INDUS', data=data)
plt.title('Scatter Plot of Nitric Oxide Concentrations vs. Proportion of Non-Retail Business Acres')
plt.xlabel('Nitric Oxides Concentration (parts per 10 million)')
plt.ylabel('Proportion of Non-Retail Business Acres')
plt.show()

# 5. Histogram for Pupil-Teacher Ratio (PTRATIO)
plt.figure(figsize=(10, 6))
sns.histplot(data['PTRATIO'], bins=20, kde=True)
plt.title('Histogram of Pupil-Teacher Ratio')
plt.xlabel('Pupil-Teacher Ratio')
plt.ylabel('Frequency')
plt.show()

# Task 3: Hypothesis Testing

# 1. T-test for median values of houses bounded by the Charles River
group1 = data[data['CHAS'] == 1]['MEDV']
group2 = data[data['CHAS'] == 0]['MEDV']
t_stat, p_value_ttest = stats.ttest_ind(group1, group2)

# Conclusion for T-test
if p_value_ttest < 0.05:
    t_test_result = "Reject H0: Significant difference in median values."
else:
    t_test_result = "Fail to reject H0: No significant difference in median values."

# 2. ANOVA for MEDV across AGE groups
f_stat, p_value_anova = stats.f_oneway(
    data[data['AGE_GROUP'] == '35 or Younger']['MEDV'],
    data[data['AGE_GROUP'] == '36-70']['MEDV'],
    data[data['AGE_GROUP'] == '71 or Older']['MEDV']
)

# Conclusion for ANOVA
if p_value_anova < 0.05:
    anova_result = "Reject H0: Significant difference in median values across age groups."
else:
    anova_result = "Fail to reject H0: No significant difference in median values across age groups."

# 3. Pearson Correlation for NOX and INDUS
correlation, p_value_correlation = stats.pearsonr(data['NOX'], data['INDUS'])

# Conclusion for Correlation
if p_value_correlation < 0.05:
    correlation_result = "Reject H0: Significant correlation between NOX and INDUS."
else:
    correlation_result = "Fail to reject H0: No significant correlation between NOX and INDUS."

# 4. Regression Analysis for impact of DIS on MEDV
X = sm.add_constant(data['DIS'])  # adding a constant for intercept
y = data['MEDV']
model = sm.OLS(y, X).fit()

# Summary of regression results
regression_summary = model.summary()

# Output Results
print("T-test Result:", t_test_result)
print("ANOVA Result:", anova_result)
print("Correlation Result:", correlation_result)
print("Regression Summary:\n", regression_summary)
